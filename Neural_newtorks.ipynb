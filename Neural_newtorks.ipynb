{
  "nbformat": 4,
  "nbformat_minor": 0,
  "metadata": {
    "colab": {
      "name": "Neural_newtorks.py",
      "provenance": [],
      "collapsed_sections": [],
      "authorship_tag": "ABX9TyPNptgkjAg0Zj0LyUMtiSLf",
      "include_colab_link": true
    },
    "kernelspec": {
      "name": "python3",
      "display_name": "Python 3"
    },
    "language_info": {
      "name": "python"
    }
  },
  "cells": [
    {
      "cell_type": "markdown",
      "metadata": {
        "id": "view-in-github",
        "colab_type": "text"
      },
      "source": [
        "<a href=\"https://colab.research.google.com/github/sanirurajapaksha/sanirurajapaksha/blob/main/Neural_newtorks.ipynb\" target=\"_parent\"><img src=\"https://colab.research.google.com/assets/colab-badge.svg\" alt=\"Open In Colab\"/></a>"
      ]
    },
    {
      "cell_type": "code",
      "metadata": {
        "colab": {
          "base_uri": "https://localhost:8080/"
        },
        "id": "M39voVV2TuAb",
        "outputId": "709383e4-6839-4e73-82aa-1350888e200a"
      },
      "source": [
        "import numpy as np\n",
        "\n",
        "inputs = [[1, 2, 3, 4],\n",
        "          [4.6,4.4,0.5,1.1],\n",
        "          [-0.7,-0.4,-8.5,-3.4]]\n",
        "\n",
        "weights1 = [[3.1, 6.3, -0.4, 1.0],\n",
        "           [0.5, -6.3, -0.4, 6.0],\n",
        "           [-2.0, -8.3, 0.4,0.7] ]\n",
        "\n",
        "biases1 = [2, 3, 0.5]\n",
        "\n",
        "weights2 = [[9.9, -0.34, -0.4],\n",
        "           [-0.99, 0.13, -5.3],\n",
        "           [-2.0, -3.5, -0.5] ]\n",
        "\n",
        "biases2 = [5.4, 0.5, 5.5]\n",
        "\n",
        "layer_1_output = np.dot(inputs,np.array(weights1).T) + biases1\n",
        "layer_2_output = np.dot(layer_1_output,np.array(weights2).T) + biases2\n",
        "print(layer_2_output)\n",
        "\n",
        "\n",
        "'''\n",
        "output_value = []\n",
        "for neuron_weight,neuron_bias in zip(weights,biases):\n",
        "    neuron_output = 0\n",
        "    for weight,neuron_input in zip(neuron_weight,inputs):\n",
        "        neuron_output += weight * neuron_input\n",
        "    neuron_output += neuron_bias\n",
        "    output_value.append(neuron_output)\n",
        "\n",
        "print(output_value)\n",
        "'''"
      ],
      "execution_count": null,
      "outputs": [
        {
          "output_type": "stream",
          "text": [
            "<zip object at 0x7f88da7af410>\n"
          ],
          "name": "stdout"
        }
      ]
    }
  ]
}